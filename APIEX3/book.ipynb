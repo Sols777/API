{
 "cells": [
  {
   "cell_type": "markdown",
   "metadata": {},
   "source": [
    "### Imports"
   ]
  },
  {
   "cell_type": "code",
   "execution_count": 1,
   "metadata": {},
   "outputs": [],
   "source": [
    "import requests\n",
    "import os\n",
    "from dotenv import load_dotenv\n",
    "import json\n",
    "from utils import *"
   ]
  },
  {
   "cell_type": "markdown",
   "metadata": {},
   "source": [
    "### Variables const , globals , sensible data"
   ]
  },
  {
   "cell_type": "code",
   "execution_count": 2,
   "metadata": {},
   "outputs": [],
   "source": [
    "load_dotenv()\n",
    "\n",
    "# constants / sensible data\n",
    "\n",
    "STOCK_NAME = os.getenv(\"STOCK_NAME\")\n",
    "COMPANY_NAME = os.getenv(\"COMPANY_NAME\")\n",
    "STOCK_ENDPOINT = os.getenv(\"STOCK_ENDPOINT\")\n",
    "NEWS_ENDPOINT = os.getenv(\"NEWS_ENDPOINT\")\n",
    "STOCK_API_KEY = os.getenv(\"STOCK_API_KEY\")\n",
    "NEWS_API_KEY = os.getenv(\"NEWS_API_KEY\")"
   ]
  },
  {
   "cell_type": "code",
   "execution_count": 3,
   "metadata": {},
   "outputs": [],
   "source": [
    "# globals\n",
    "stockFileName = \"JSON/intraday.json\"\n",
    "newsFileName = \"JSON/everything.json\"\n",
    "#\n",
    "# stockList = loadJSONFile(stockFileName)\n",
    "# newsList = loadJSONFile(newsFileName)\n",
    "#\n",
    "listStocks = []\n",
    "listNews = []\n",
    "#\n",
    "paramsStocks = {\n",
    "    'function' : 'TIME_SERIES_INTRADAY',\n",
    "    'symbol' : STOCK_NAME,\n",
    "    'interval' : '60min',\n",
    "    'apikey' : STOCK_API_KEY\n",
    "}\n",
    " \n",
    "#\n",
    "paramsNews = '''\n",
    "\n",
    "'''"
   ]
  },
  {
   "cell_type": "markdown",
   "metadata": {},
   "source": [
    "### Functions"
   ]
  },
  {
   "cell_type": "code",
   "execution_count": 6,
   "metadata": {},
   "outputs": [],
   "source": [
    "def exportToJSONIntraDay():\n",
    "    response = requests.get(url=STOCK_ENDPOINT , params= paramsStocks)\n",
    "    if response.status_code == 200:\n",
    "        stocks = response.json()['Time Series (60min)']\n",
    "        for item in stocks.items():\n",
    "            listStocks.append(item)"
   ]
  },
  {
   "cell_type": "code",
   "execution_count": 21,
   "metadata": {},
   "outputs": [],
   "source": [
    "def getIntraDay():\n",
    "    params = {\n",
    "        'function' : 'TIME_SERIES_INTRADAY',\n",
    "        'symbol' : STOCK_NAME,\n",
    "        'interval' : '60min',\n",
    "        'apikey' : STOCK_API_KEY,\n",
    "        'outputsize' : 'compact'\n",
    "    }\n",
    "    listIntraDay = []\n",
    "    response = requests.get(url=STOCK_ENDPOINT, params=params)\n",
    "    if response.status_code == 200:\n",
    "        data = response.json()['Time Series (60min)']\n",
    "        for item in data.items():\n",
    "            listIntraDay.append({\n",
    "                'datetime' : item[0],\n",
    "                'open' : item[1]['1. open'],\n",
    "                'high' : item[1]['2. high'],\n",
    "                'low' : item[1]['3. low'],\n",
    "                'close' : item[1]['4. close'],\n",
    "                'volume' : item[1]['5. volume']\n",
    "            })\n",
    "    return listIntraDay\n"
   ]
  },
  {
   "cell_type": "code",
   "execution_count": 25,
   "metadata": {},
   "outputs": [],
   "source": [
    "def findDataByDate(date ,intraday):\n",
    "    find = [item for item in intraday if item['datetime'] == date]\n",
    "    if find:\n",
    "        return find"
   ]
  },
  {
   "cell_type": "code",
   "execution_count": 32,
   "metadata": {},
   "outputs": [],
   "source": [
    "\n",
    "def getDateDict(datetime, intraday):\n",
    "    for day in intraday:\n",
    "        if day[\"datetime\"] == datetime:\n",
    "            return day\n",
    "    return None"
   ]
  },
  {
   "cell_type": "code",
   "execution_count": 45,
   "metadata": {},
   "outputs": [],
   "source": [
    "\n",
    "def getStatisticData(dateDict):\n",
    "    variation = float(dateDict['close'])-float(dateDict['open'])\n",
    "    variation_perc = (variation / float(dateDict['close']))*100\n",
    "    return variation, variation_perc"
   ]
  },
  {
   "cell_type": "code",
   "execution_count": 46,
   "metadata": {},
   "outputs": [],
   "source": [
    "\n",
    "def getDateStock(datetime, intraday):\n",
    "    dateDict = getDateDict(datetime, intraday)\n",
    "    variation, variation_perc = getStatisticData(dateDict)\n",
    "    print(f\"\"\"\n",
    "          Date: {datetime}\n",
    "          Stock: {COMPANY_NAME}\n",
    "          Abertura: {dateDict['open']}\n",
    "          Fecho: {dateDict['close']}\n",
    "          Volume: {dateDict['volume']}\n",
    "          Variação: {variation :.2f}$ ({variation_perc :.2f}%)\n",
    "          \"\"\")"
   ]
  },
  {
   "cell_type": "code",
   "execution_count": 43,
   "metadata": {},
   "outputs": [],
   "source": [
    "\n",
    "def getWeekDict(intraWeek):\n",
    "    open = 0\n",
    "    close = 0\n",
    "    for day in intraWeek:\n",
    "        open = day['open']\n",
    "        close = day['close']\n",
    "        if day[\"open\"] > open:\n",
    "            open = day['open']\n",
    "        if day[\"close\"] > close:\n",
    "            close = day['close']\n",
    "        return {\"open\":open , \"close\": close}\n",
    "    return None"
   ]
  },
  {
   "cell_type": "code",
   "execution_count": 44,
   "metadata": {},
   "outputs": [],
   "source": [
    "def printWeekStock(intraWeek):\n",
    "    weekDict = getWeekDict(intraWeek)\n",
    "    variation, variation_perc = getStatisticData(weekDict)\n",
    "    print(f\"\"\"\n",
    "          Stock: {COMPANY_NAME}\n",
    "          Abertura: {weekDict['open']}\n",
    "          Fecho: {weekDict['close']}\n",
    "          Variação: {variation :.2f}$ ({variation_perc :.2f}%)\n",
    "          \"\"\")"
   ]
  },
  {
   "cell_type": "code",
   "execution_count": 1,
   "metadata": {},
   "outputs": [],
   "source": [
    "def getIntraweek():\n",
    "    params = {\n",
    "        'function' : 'TIME_SERIES_WEEKLY',\n",
    "        'symbol' : STOCK_NAME,\n",
    "        'apikey' : STOCK_API_KEY,\n",
    "    }\n",
    "    listIntraWeek =[]\n",
    "    response = requests.get(url=STOCK_ENDPOINT, params=params)\n",
    "    if response.status_code == 200:\n",
    "        data = response.json()['Time Series (60min)']\n",
    "        for item in data.items():\n",
    "            listIntraWeek.append({\n",
    "                'datetime' : item[0],\n",
    "                'open' : item[1]['1. open'],\n",
    "                'close' : item[1]['4. close']\n",
    "            })\n",
    "    return listIntraWeek"
   ]
  },
  {
   "cell_type": "code",
   "execution_count": null,
   "metadata": {},
   "outputs": [],
   "source": []
  },
  {
   "cell_type": "markdown",
   "metadata": {},
   "source": [
    "### Call functions"
   ]
  },
  {
   "cell_type": "code",
   "execution_count": 2,
   "metadata": {},
   "outputs": [
    {
     "ename": "NameError",
     "evalue": "name 'STOCK_NAME' is not defined",
     "output_type": "error",
     "traceback": [
      "\u001b[1;31m---------------------------------------------------------------------------\u001b[0m",
      "\u001b[1;31mNameError\u001b[0m                                 Traceback (most recent call last)",
      "Cell \u001b[1;32mIn[2], line 1\u001b[0m\n\u001b[1;32m----> 1\u001b[0m intraWeek \u001b[38;5;241m=\u001b[39m \u001b[43mgetIntraweek\u001b[49m\u001b[43m(\u001b[49m\u001b[43m)\u001b[49m\n\u001b[0;32m      2\u001b[0m saveJSONFile(\u001b[38;5;124m\"\u001b[39m\u001b[38;5;124mJSON/intraWeek.json\u001b[39m\u001b[38;5;124m\"\u001b[39m, intraWeek)\n",
      "Cell \u001b[1;32mIn[1], line 4\u001b[0m, in \u001b[0;36mgetIntraweek\u001b[1;34m()\u001b[0m\n\u001b[0;32m      1\u001b[0m \u001b[38;5;28;01mdef\u001b[39;00m \u001b[38;5;21mgetIntraweek\u001b[39m():\n\u001b[0;32m      2\u001b[0m     params \u001b[38;5;241m=\u001b[39m {\n\u001b[0;32m      3\u001b[0m         \u001b[38;5;124m'\u001b[39m\u001b[38;5;124mfunction\u001b[39m\u001b[38;5;124m'\u001b[39m : \u001b[38;5;124m'\u001b[39m\u001b[38;5;124mTIME_SERIES_WEEKLY\u001b[39m\u001b[38;5;124m'\u001b[39m,\n\u001b[1;32m----> 4\u001b[0m         \u001b[38;5;124m'\u001b[39m\u001b[38;5;124msymbol\u001b[39m\u001b[38;5;124m'\u001b[39m : \u001b[43mSTOCK_NAME\u001b[49m,\n\u001b[0;32m      5\u001b[0m         \u001b[38;5;124m'\u001b[39m\u001b[38;5;124mapikey\u001b[39m\u001b[38;5;124m'\u001b[39m : STOCK_API_KEY,\n\u001b[0;32m      6\u001b[0m     }\n\u001b[0;32m      7\u001b[0m     listIntraWeek \u001b[38;5;241m=\u001b[39m[]\n\u001b[0;32m      8\u001b[0m     response \u001b[38;5;241m=\u001b[39m requests\u001b[38;5;241m.\u001b[39mget(url\u001b[38;5;241m=\u001b[39mSTOCK_ENDPOINT, params\u001b[38;5;241m=\u001b[39mparams)\n",
      "\u001b[1;31mNameError\u001b[0m: name 'STOCK_NAME' is not defined"
     ]
    }
   ],
   "source": [
    "intraWeek = getIntraweek()\n",
    "saveJSONFile(\"JSON/intraWeek.json\", intraWeek)"
   ]
  },
  {
   "cell_type": "code",
   "execution_count": 3,
   "metadata": {},
   "outputs": [
    {
     "ename": "NameError",
     "evalue": "name 'getIntraDay' is not defined",
     "output_type": "error",
     "traceback": [
      "\u001b[1;31m---------------------------------------------------------------------------\u001b[0m",
      "\u001b[1;31mNameError\u001b[0m                                 Traceback (most recent call last)",
      "Cell \u001b[1;32mIn[3], line 1\u001b[0m\n\u001b[1;32m----> 1\u001b[0m intraday \u001b[38;5;241m=\u001b[39m \u001b[43mgetIntraDay\u001b[49m()\n\u001b[0;32m      2\u001b[0m saveJSONFile(\u001b[38;5;124m\"\u001b[39m\u001b[38;5;124mJSON/intraday.json\u001b[39m\u001b[38;5;124m\"\u001b[39m, intraday)\n",
      "\u001b[1;31mNameError\u001b[0m: name 'getIntraDay' is not defined"
     ]
    }
   ],
   "source": [
    "intraday = getIntraDay()\n",
    "saveJSONFile(\"JSON/intraday.json\", intraday)"
   ]
  },
  {
   "cell_type": "code",
   "execution_count": 31,
   "metadata": {},
   "outputs": [
    {
     "name": "stdout",
     "output_type": "stream",
     "text": [
      "[{'datetime': '2024-05-24 19:00:00', 'open': '178.9500', 'high': '179.0000', 'low': '178.7600', 'close': '178.8500', 'volume': '69420'}]\n"
     ]
    }
   ],
   "source": [
    "dateToFind = \"2024-05-24 19:00:00\"\n",
    "print(findDataByDate(dateToFind ,intraday))"
   ]
  },
  {
   "cell_type": "code",
   "execution_count": 37,
   "metadata": {},
   "outputs": [
    {
     "name": "stdout",
     "output_type": "stream",
     "text": [
      "\n",
      "          Date: 2024-05-24 19:00:00\n",
      "          Stock: Tesla Inc\n",
      "          Abertura: 178.9500\n",
      "          Fecho: 178.8500\n",
      "          Volume: 69420\n",
      "          Variação: -0.10$ (-0.06%)\n",
      "          \n"
     ]
    }
   ],
   "source": [
    "getDateStock(\"2024-05-24 19:00:00\", intraday)"
   ]
  }
 ],
 "metadata": {
  "kernelspec": {
   "display_name": "env",
   "language": "python",
   "name": "python3"
  },
  "language_info": {
   "codemirror_mode": {
    "name": "ipython",
    "version": 3
   },
   "file_extension": ".py",
   "mimetype": "text/x-python",
   "name": "python",
   "nbconvert_exporter": "python",
   "pygments_lexer": "ipython3",
   "version": "3.11.9"
  }
 },
 "nbformat": 4,
 "nbformat_minor": 2
}
